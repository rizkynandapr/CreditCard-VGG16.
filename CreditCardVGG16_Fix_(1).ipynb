{
  "nbformat": 4,
  "nbformat_minor": 0,
  "metadata": {
    "colab": {
      "provenance": [],
      "gpuType": "T4"
    },
    "kernelspec": {
      "name": "python3",
      "display_name": "Python 3"
    },
    "language_info": {
      "name": "python"
    },
    "accelerator": "GPU"
  },
  "cells": [
    {
      "cell_type": "code",
      "execution_count": null,
      "metadata": {
        "id": "kA8uzrDeCgkG"
      },
      "outputs": [],
      "source": [
        "import numpy as np\n",
        "import pandas as pd\n",
        "from sklearn.preprocessing import StandardScaler\n",
        "from sklearn.model_selection import train_test_split\n",
        "from tensorflow.keras.models import Model\n",
        "from tensorflow.keras.layers import Dense, Dropout, Flatten, Input\n",
        "from tensorflow.keras.optimizers import Adam\n",
        "from tensorflow.keras.applications import VGG16\n",
        "from tensorflow.keras.preprocessing.image import ImageDataGenerator\n",
        "from tensorflow.keras.callbacks import EarlyStopping, ModelCheckpoint\n",
        "from imblearn.over_sampling import SMOTE\n",
        "import matplotlib.pyplot as plt\n",
        "from sklearn.metrics import confusion_matrix, classification_report\n",
        "import itertools"
      ]
    },
    {
      "cell_type": "code",
      "source": [
        "from google.colab import drive\n",
        "drive.mount('/content/drive')"
      ],
      "metadata": {
        "colab": {
          "base_uri": "https://localhost:8080/"
        },
        "id": "p9ilB9oPCoaM",
        "outputId": "f4fa4110-dc1b-4aab-87d8-de3d53f797a4"
      },
      "execution_count": null,
      "outputs": [
        {
          "output_type": "stream",
          "name": "stdout",
          "text": [
            "Mounted at /content/drive\n"
          ]
        }
      ]
    },
    {
      "cell_type": "code",
      "source": [
        "df = pd.read_csv(\"/content/drive/MyDrive/creditcard.csv\")\n"
      ],
      "metadata": {
        "id": "KGbZURm0Cqou"
      },
      "execution_count": null,
      "outputs": []
    },
    {
      "cell_type": "code",
      "source": [
        "print(df.isnull().sum())"
      ],
      "metadata": {
        "colab": {
          "base_uri": "https://localhost:8080/"
        },
        "id": "03NWrNDyCuvy",
        "outputId": "7d8cb2a4-2129-45a2-8899-a4cc334f9f8d"
      },
      "execution_count": null,
      "outputs": [
        {
          "output_type": "stream",
          "name": "stdout",
          "text": [
            "Time      0\n",
            "V1        0\n",
            "V2        0\n",
            "V3        0\n",
            "V4        0\n",
            "V5        0\n",
            "V6        0\n",
            "V7        0\n",
            "V8        0\n",
            "V9        0\n",
            "V10       0\n",
            "V11       0\n",
            "V12       0\n",
            "V13       0\n",
            "V14       0\n",
            "V15       0\n",
            "V16       0\n",
            "V17       0\n",
            "V18       0\n",
            "V19       0\n",
            "V20       0\n",
            "V21       0\n",
            "V22       0\n",
            "V23       0\n",
            "V24       0\n",
            "V25       0\n",
            "V26       0\n",
            "V27       0\n",
            "V28       0\n",
            "Amount    0\n",
            "Class     0\n",
            "dtype: int64\n"
          ]
        }
      ]
    },
    {
      "cell_type": "code",
      "source": [
        "df = df.dropna()"
      ],
      "metadata": {
        "id": "HkhxbUwUCy-n"
      },
      "execution_count": null,
      "outputs": []
    },
    {
      "cell_type": "code",
      "source": [
        "class_counts = df['Class'].value_counts()\n",
        "print(\"\\nDistribution of classes:\")\n",
        "print(class_counts)\n"
      ],
      "metadata": {
        "colab": {
          "base_uri": "https://localhost:8080/"
        },
        "id": "SglEO0cqC0yf",
        "outputId": "a5e989f0-4596-4fe0-ff9d-716c505d981e"
      },
      "execution_count": null,
      "outputs": [
        {
          "output_type": "stream",
          "name": "stdout",
          "text": [
            "\n",
            "Distribution of classes:\n",
            "Class\n",
            "0    284315\n",
            "1       492\n",
            "Name: count, dtype: int64\n"
          ]
        }
      ]
    },
    {
      "cell_type": "code",
      "source": [
        "X = df.drop('Class', axis=1)\n",
        "y = df['Class']"
      ],
      "metadata": {
        "id": "rPpvN5TNC21c"
      },
      "execution_count": null,
      "outputs": []
    },
    {
      "cell_type": "code",
      "source": [
        "# Menggabungkan X dan y ke dalam satu DataFrame untuk memudahkan pemrosesan\n",
        "data = pd.DataFrame(X)\n",
        "data['Class'] = y\n",
        "\n",
        "# Memisahkan kelas mayoritas dan minoritas\n",
        "data_majority = data[data['Class'] == 0]\n",
        "data_minority = data[data['Class'] == 1]\n",
        "\n",
        "# Mengambil sampel sebanyak 1000 dari kelas mayoritas\n",
        "data_majority_sampled = data_majority.sample(n=1000, random_state=42)\n",
        "\n",
        "# Menggabungkan kembali dataset yang telah disampling\n",
        "data_balanced = pd.concat([data_majority_sampled, data_minority])\n",
        "\n",
        "# Memisahkan kembali fitur dan label\n",
        "X_balanced = data_balanced.drop('Class', axis=1).values\n",
        "y_balanced = data_balanced['Class'].values\n",
        "\n",
        "# Memeriksa distribusi kelas setelah penyeimbangan\n",
        "print(\"Distribution of classes after balancing:\")\n",
        "print(pd.Series(y_balanced).value_counts())\n",
        "\n",
        "# Membagi data menjadi training dan testing sets\n",
        "X_train, X_test, y_train, y_test = train_test_split(X_balanced, y_balanced, test_size=0.3, random_state=42)\n",
        "\n",
        "# Standardisasi fitur\n",
        "scaler = StandardScaler()\n",
        "X_train = scaler.fit_transform(X_train)\n",
        "X_test = scaler.transform(X_test)\n",
        "\n",
        "# Mengubah data tabular menjadi bentuk 2D dengan padding untuk mencapai ukuran 32x32\n",
        "num_features = X_train.shape[1]\n",
        "\n",
        "# Membuat data memiliki 3 saluran\n",
        "X_train_3ch = np.stack((X_train,)*3, axis=-1)\n",
        "X_test_3ch = np.stack((X_test,)*3, axis=-1)\n",
        "\n",
        "# Menambahkan padding untuk mencapai ukuran 32x32\n",
        "X_train_padded = np.zeros((X_train_3ch.shape[0], 32, 32, 3))\n",
        "X_test_padded = np.zeros((X_test_3ch.shape[0], 32, 32, 3))\n",
        "\n",
        "# Memindahkan data yang diubah menjadi 3 saluran ke dalam array yang dipadukan\n",
        "X_train_padded[:, :1, :num_features, :] = X_train_3ch[:, np.newaxis, :, :]\n",
        "X_test_padded[:, :1, :num_features, :] = X_test_3ch[:, np.newaxis, :, :]\n",
        "\n",
        "print(\"Shape of X_train_padded:\", X_train_padded.shape)\n",
        "print(\"Shape of X_test_padded:\", X_test_padded.shape)"
      ],
      "metadata": {
        "colab": {
          "base_uri": "https://localhost:8080/"
        },
        "id": "yvj9qekK-k5T",
        "outputId": "ea723966-b7a6-4b65-dfce-de5066ae1be1"
      },
      "execution_count": null,
      "outputs": [
        {
          "output_type": "stream",
          "name": "stdout",
          "text": [
            "Distribution of classes after balancing:\n",
            "0    1000\n",
            "1     492\n",
            "Name: count, dtype: int64\n",
            "Shape of X_train_padded: (1044, 32, 32, 3)\n",
            "Shape of X_test_padded: (448, 32, 32, 3)\n"
          ]
        }
      ]
    },
    {
      "cell_type": "code",
      "source": [
        "import tensorflow as tf\n",
        "from tensorflow.keras.applications import VGG16\n",
        "from tensorflow.keras.layers import Flatten, Dense, Dropout, BatchNormalization\n",
        "from tensorflow.keras.models import Model\n",
        "from tensorflow.keras.optimizers import Adam\n",
        "from tensorflow.keras.callbacks import EarlyStopping\n",
        "from tensorflow.keras.regularizers import l2\n",
        "\n",
        "input_shape = (32, 32, 3)\n",
        "\n",
        "# Menggunakan VGG16 tanpa layer fully connected di bagian atas\n",
        "base_model = VGG16(weights='imagenet', include_top=False, input_shape=input_shape)\n",
        "base_model.trainable = False  # Membekukan layer base_model\n",
        "\n",
        "# Menambahkan layer di atas base_model\n",
        "x = Flatten()(base_model.output)\n",
        "x = Dense(128, activation='relu', kernel_regularizer=l2(0.001))(x)\n",
        "x = BatchNormalization()(x)\n",
        "x = Dropout(0.5)(x)\n",
        "x = Dense(64, activation='relu', kernel_regularizer=l2(0.001))(x)\n",
        "x = BatchNormalization()(x)\n",
        "x = Dropout(0.5)(x)\n",
        "outputs = Dense(2, activation='softmax')(x)  # 2 kelas\n",
        "\n",
        "model = Model(inputs=base_model.input, outputs=outputs)\n",
        "\n",
        "# Mengompilasi model\n",
        "optimizer = Adam(learning_rate=0.0001)\n",
        "model.compile(optimizer=optimizer, loss='sparse_categorical_crossentropy', metrics=['accuracy'])\n",
        "model.summary()\n",
        "\n",
        "# Menggunakan Early Stopping untuk mencegah overfitting\n",
        "early_stopping = EarlyStopping(monitor='val_loss', patience=20, restore_best_weights=True)\n",
        "\n",
        "# Melatih model\n",
        "history = model.fit(X_train_padded, y_train, epochs=100, batch_size=32, validation_data=(X_test_padded, y_test), callbacks=[early_stopping])\n"
      ],
      "metadata": {
        "colab": {
          "base_uri": "https://localhost:8080/"
        },
        "id": "jQZuOVd8-oWb",
        "outputId": "2430961d-304c-419f-9f45-e8b84681b7c7"
      },
      "execution_count": null,
      "outputs": [
        {
          "output_type": "stream",
          "name": "stdout",
          "text": [
            "Downloading data from https://storage.googleapis.com/tensorflow/keras-applications/vgg16/vgg16_weights_tf_dim_ordering_tf_kernels_notop.h5\n",
            "58889256/58889256 [==============================] - 4s 0us/step\n",
            "Model: \"model\"\n",
            "_________________________________________________________________\n",
            " Layer (type)                Output Shape              Param #   \n",
            "=================================================================\n",
            " input_1 (InputLayer)        [(None, 32, 32, 3)]       0         \n",
            "                                                                 \n",
            " block1_conv1 (Conv2D)       (None, 32, 32, 64)        1792      \n",
            "                                                                 \n",
            " block1_conv2 (Conv2D)       (None, 32, 32, 64)        36928     \n",
            "                                                                 \n",
            " block1_pool (MaxPooling2D)  (None, 16, 16, 64)        0         \n",
            "                                                                 \n",
            " block2_conv1 (Conv2D)       (None, 16, 16, 128)       73856     \n",
            "                                                                 \n",
            " block2_conv2 (Conv2D)       (None, 16, 16, 128)       147584    \n",
            "                                                                 \n",
            " block2_pool (MaxPooling2D)  (None, 8, 8, 128)         0         \n",
            "                                                                 \n",
            " block3_conv1 (Conv2D)       (None, 8, 8, 256)         295168    \n",
            "                                                                 \n",
            " block3_conv2 (Conv2D)       (None, 8, 8, 256)         590080    \n",
            "                                                                 \n",
            " block3_conv3 (Conv2D)       (None, 8, 8, 256)         590080    \n",
            "                                                                 \n",
            " block3_pool (MaxPooling2D)  (None, 4, 4, 256)         0         \n",
            "                                                                 \n",
            " block4_conv1 (Conv2D)       (None, 4, 4, 512)         1180160   \n",
            "                                                                 \n",
            " block4_conv2 (Conv2D)       (None, 4, 4, 512)         2359808   \n",
            "                                                                 \n",
            " block4_conv3 (Conv2D)       (None, 4, 4, 512)         2359808   \n",
            "                                                                 \n",
            " block4_pool (MaxPooling2D)  (None, 2, 2, 512)         0         \n",
            "                                                                 \n",
            " block5_conv1 (Conv2D)       (None, 2, 2, 512)         2359808   \n",
            "                                                                 \n",
            " block5_conv2 (Conv2D)       (None, 2, 2, 512)         2359808   \n",
            "                                                                 \n",
            " block5_conv3 (Conv2D)       (None, 2, 2, 512)         2359808   \n",
            "                                                                 \n",
            " block5_pool (MaxPooling2D)  (None, 1, 1, 512)         0         \n",
            "                                                                 \n",
            " flatten (Flatten)           (None, 512)               0         \n",
            "                                                                 \n",
            " dense (Dense)               (None, 128)               65664     \n",
            "                                                                 \n",
            " batch_normalization (Batch  (None, 128)               512       \n",
            " Normalization)                                                  \n",
            "                                                                 \n",
            " dropout (Dropout)           (None, 128)               0         \n",
            "                                                                 \n",
            " dense_1 (Dense)             (None, 64)                8256      \n",
            "                                                                 \n",
            " batch_normalization_1 (Bat  (None, 64)                256       \n",
            " chNormalization)                                                \n",
            "                                                                 \n",
            " dropout_1 (Dropout)         (None, 64)                0         \n",
            "                                                                 \n",
            " dense_2 (Dense)             (None, 2)                 130       \n",
            "                                                                 \n",
            "=================================================================\n",
            "Total params: 14789506 (56.42 MB)\n",
            "Trainable params: 74434 (290.76 KB)\n",
            "Non-trainable params: 14715072 (56.13 MB)\n",
            "_________________________________________________________________\n",
            "Epoch 1/100\n",
            "33/33 [==============================] - 13s 54ms/step - loss: 1.0687 - accuracy: 0.6533 - val_loss: 0.9910 - val_accuracy: 0.3549\n",
            "Epoch 2/100\n",
            "33/33 [==============================] - 1s 16ms/step - loss: 0.8953 - accuracy: 0.7251 - val_loss: 0.8772 - val_accuracy: 0.7902\n",
            "Epoch 3/100\n",
            "33/33 [==============================] - 1s 16ms/step - loss: 0.8511 - accuracy: 0.7395 - val_loss: 0.7928 - val_accuracy: 0.8438\n",
            "Epoch 4/100\n",
            "33/33 [==============================] - 0s 15ms/step - loss: 0.7838 - accuracy: 0.7759 - val_loss: 0.7328 - val_accuracy: 0.8326\n",
            "Epoch 5/100\n",
            "33/33 [==============================] - 1s 16ms/step - loss: 0.7595 - accuracy: 0.7864 - val_loss: 0.6904 - val_accuracy: 0.8348\n",
            "Epoch 6/100\n",
            "33/33 [==============================] - 1s 15ms/step - loss: 0.7116 - accuracy: 0.7979 - val_loss: 0.6459 - val_accuracy: 0.8393\n",
            "Epoch 7/100\n",
            "33/33 [==============================] - 0s 14ms/step - loss: 0.6686 - accuracy: 0.8343 - val_loss: 0.6097 - val_accuracy: 0.8438\n",
            "Epoch 8/100\n",
            "33/33 [==============================] - 1s 16ms/step - loss: 0.6450 - accuracy: 0.8305 - val_loss: 0.5845 - val_accuracy: 0.8482\n",
            "Epoch 9/100\n",
            "33/33 [==============================] - 1s 16ms/step - loss: 0.6178 - accuracy: 0.8381 - val_loss: 0.5611 - val_accuracy: 0.8504\n",
            "Epoch 10/100\n",
            "33/33 [==============================] - 0s 15ms/step - loss: 0.6088 - accuracy: 0.8391 - val_loss: 0.5407 - val_accuracy: 0.8482\n",
            "Epoch 11/100\n",
            "33/33 [==============================] - 0s 14ms/step - loss: 0.5894 - accuracy: 0.8467 - val_loss: 0.5274 - val_accuracy: 0.8527\n",
            "Epoch 12/100\n",
            "33/33 [==============================] - 0s 15ms/step - loss: 0.6202 - accuracy: 0.8534 - val_loss: 0.5180 - val_accuracy: 0.8482\n",
            "Epoch 13/100\n",
            "33/33 [==============================] - 1s 16ms/step - loss: 0.5808 - accuracy: 0.8410 - val_loss: 0.5094 - val_accuracy: 0.8527\n",
            "Epoch 14/100\n",
            "33/33 [==============================] - 0s 14ms/step - loss: 0.5745 - accuracy: 0.8467 - val_loss: 0.5024 - val_accuracy: 0.8616\n",
            "Epoch 15/100\n",
            "33/33 [==============================] - 0s 14ms/step - loss: 0.5366 - accuracy: 0.8534 - val_loss: 0.4988 - val_accuracy: 0.8638\n",
            "Epoch 16/100\n",
            "33/33 [==============================] - 0s 14ms/step - loss: 0.5367 - accuracy: 0.8592 - val_loss: 0.4911 - val_accuracy: 0.8616\n",
            "Epoch 17/100\n",
            "33/33 [==============================] - 1s 16ms/step - loss: 0.5424 - accuracy: 0.8458 - val_loss: 0.4903 - val_accuracy: 0.8683\n",
            "Epoch 18/100\n",
            "33/33 [==============================] - 1s 16ms/step - loss: 0.5119 - accuracy: 0.8611 - val_loss: 0.4855 - val_accuracy: 0.8683\n",
            "Epoch 19/100\n",
            "33/33 [==============================] - 0s 14ms/step - loss: 0.5711 - accuracy: 0.8391 - val_loss: 0.4792 - val_accuracy: 0.8683\n",
            "Epoch 20/100\n",
            "33/33 [==============================] - 0s 14ms/step - loss: 0.5833 - accuracy: 0.8439 - val_loss: 0.4792 - val_accuracy: 0.8661\n",
            "Epoch 21/100\n",
            "33/33 [==============================] - 1s 18ms/step - loss: 0.4901 - accuracy: 0.8649 - val_loss: 0.4724 - val_accuracy: 0.8705\n",
            "Epoch 22/100\n",
            "33/33 [==============================] - 1s 17ms/step - loss: 0.5189 - accuracy: 0.8534 - val_loss: 0.4736 - val_accuracy: 0.8728\n",
            "Epoch 23/100\n",
            "33/33 [==============================] - 1s 17ms/step - loss: 0.4975 - accuracy: 0.8611 - val_loss: 0.4678 - val_accuracy: 0.8705\n",
            "Epoch 24/100\n",
            "33/33 [==============================] - 0s 15ms/step - loss: 0.4929 - accuracy: 0.8649 - val_loss: 0.4692 - val_accuracy: 0.8750\n",
            "Epoch 25/100\n",
            "33/33 [==============================] - 1s 16ms/step - loss: 0.4970 - accuracy: 0.8659 - val_loss: 0.4669 - val_accuracy: 0.8750\n",
            "Epoch 26/100\n",
            "33/33 [==============================] - 1s 17ms/step - loss: 0.5085 - accuracy: 0.8515 - val_loss: 0.4677 - val_accuracy: 0.8750\n",
            "Epoch 27/100\n",
            "33/33 [==============================] - 1s 18ms/step - loss: 0.4851 - accuracy: 0.8649 - val_loss: 0.4607 - val_accuracy: 0.8772\n",
            "Epoch 28/100\n",
            "33/33 [==============================] - 0s 14ms/step - loss: 0.4969 - accuracy: 0.8659 - val_loss: 0.4579 - val_accuracy: 0.8728\n",
            "Epoch 29/100\n",
            "33/33 [==============================] - 1s 16ms/step - loss: 0.4577 - accuracy: 0.8688 - val_loss: 0.4495 - val_accuracy: 0.8772\n",
            "Epoch 30/100\n",
            "33/33 [==============================] - 1s 16ms/step - loss: 0.4671 - accuracy: 0.8669 - val_loss: 0.4456 - val_accuracy: 0.8750\n",
            "Epoch 31/100\n",
            "33/33 [==============================] - 0s 13ms/step - loss: 0.4351 - accuracy: 0.8812 - val_loss: 0.4488 - val_accuracy: 0.8728\n",
            "Epoch 32/100\n",
            "33/33 [==============================] - 0s 15ms/step - loss: 0.4764 - accuracy: 0.8726 - val_loss: 0.4462 - val_accuracy: 0.8750\n",
            "Epoch 33/100\n",
            "33/33 [==============================] - 1s 16ms/step - loss: 0.4766 - accuracy: 0.8669 - val_loss: 0.4452 - val_accuracy: 0.8750\n",
            "Epoch 34/100\n",
            "33/33 [==============================] - 1s 16ms/step - loss: 0.4520 - accuracy: 0.8822 - val_loss: 0.4443 - val_accuracy: 0.8683\n",
            "Epoch 35/100\n",
            "33/33 [==============================] - 1s 16ms/step - loss: 0.4638 - accuracy: 0.8736 - val_loss: 0.4437 - val_accuracy: 0.8705\n",
            "Epoch 36/100\n",
            "33/33 [==============================] - 1s 16ms/step - loss: 0.4367 - accuracy: 0.8755 - val_loss: 0.4382 - val_accuracy: 0.8705\n",
            "Epoch 37/100\n",
            "33/33 [==============================] - 0s 14ms/step - loss: 0.4615 - accuracy: 0.8688 - val_loss: 0.4355 - val_accuracy: 0.8705\n",
            "Epoch 38/100\n",
            "33/33 [==============================] - 0s 14ms/step - loss: 0.4472 - accuracy: 0.8678 - val_loss: 0.4342 - val_accuracy: 0.8728\n",
            "Epoch 39/100\n",
            "33/33 [==============================] - 1s 16ms/step - loss: 0.4637 - accuracy: 0.8640 - val_loss: 0.4303 - val_accuracy: 0.8728\n",
            "Epoch 40/100\n",
            "33/33 [==============================] - 0s 13ms/step - loss: 0.4661 - accuracy: 0.8745 - val_loss: 0.4311 - val_accuracy: 0.8705\n",
            "Epoch 41/100\n",
            "33/33 [==============================] - 0s 14ms/step - loss: 0.4483 - accuracy: 0.8678 - val_loss: 0.4296 - val_accuracy: 0.8750\n",
            "Epoch 42/100\n",
            "33/33 [==============================] - 0s 14ms/step - loss: 0.4145 - accuracy: 0.8793 - val_loss: 0.4262 - val_accuracy: 0.8772\n",
            "Epoch 43/100\n",
            "33/33 [==============================] - 1s 16ms/step - loss: 0.4517 - accuracy: 0.8716 - val_loss: 0.4225 - val_accuracy: 0.8817\n",
            "Epoch 44/100\n",
            "33/33 [==============================] - 0s 15ms/step - loss: 0.4434 - accuracy: 0.8716 - val_loss: 0.4228 - val_accuracy: 0.8750\n",
            "Epoch 45/100\n",
            "33/33 [==============================] - 0s 13ms/step - loss: 0.4238 - accuracy: 0.8764 - val_loss: 0.4243 - val_accuracy: 0.8661\n",
            "Epoch 46/100\n",
            "33/33 [==============================] - 1s 16ms/step - loss: 0.4335 - accuracy: 0.8803 - val_loss: 0.4207 - val_accuracy: 0.8728\n",
            "Epoch 47/100\n",
            "33/33 [==============================] - 0s 14ms/step - loss: 0.4168 - accuracy: 0.8745 - val_loss: 0.4161 - val_accuracy: 0.8750\n",
            "Epoch 48/100\n",
            "33/33 [==============================] - 1s 18ms/step - loss: 0.4364 - accuracy: 0.8889 - val_loss: 0.4127 - val_accuracy: 0.8817\n",
            "Epoch 49/100\n",
            "33/33 [==============================] - 1s 17ms/step - loss: 0.4133 - accuracy: 0.8822 - val_loss: 0.4333 - val_accuracy: 0.8705\n",
            "Epoch 50/100\n",
            "33/33 [==============================] - 1s 17ms/step - loss: 0.4137 - accuracy: 0.8870 - val_loss: 0.4282 - val_accuracy: 0.8705\n",
            "Epoch 51/100\n",
            "33/33 [==============================] - 1s 15ms/step - loss: 0.4139 - accuracy: 0.8812 - val_loss: 0.4205 - val_accuracy: 0.8795\n",
            "Epoch 52/100\n",
            "33/33 [==============================] - 1s 16ms/step - loss: 0.4562 - accuracy: 0.8649 - val_loss: 0.4146 - val_accuracy: 0.8750\n",
            "Epoch 53/100\n",
            "33/33 [==============================] - 1s 19ms/step - loss: 0.4092 - accuracy: 0.8822 - val_loss: 0.4056 - val_accuracy: 0.8817\n",
            "Epoch 54/100\n",
            "33/33 [==============================] - 0s 15ms/step - loss: 0.4371 - accuracy: 0.8774 - val_loss: 0.4184 - val_accuracy: 0.8728\n",
            "Epoch 55/100\n",
            "33/33 [==============================] - 0s 13ms/step - loss: 0.4153 - accuracy: 0.8784 - val_loss: 0.4121 - val_accuracy: 0.8795\n",
            "Epoch 56/100\n",
            "33/33 [==============================] - 0s 14ms/step - loss: 0.4241 - accuracy: 0.8946 - val_loss: 0.4056 - val_accuracy: 0.8772\n",
            "Epoch 57/100\n",
            "33/33 [==============================] - 1s 16ms/step - loss: 0.4241 - accuracy: 0.8784 - val_loss: 0.4023 - val_accuracy: 0.8839\n",
            "Epoch 58/100\n",
            "33/33 [==============================] - 1s 16ms/step - loss: 0.3990 - accuracy: 0.8745 - val_loss: 0.4001 - val_accuracy: 0.8862\n",
            "Epoch 59/100\n",
            "33/33 [==============================] - 0s 13ms/step - loss: 0.4146 - accuracy: 0.8879 - val_loss: 0.4119 - val_accuracy: 0.8839\n",
            "Epoch 60/100\n",
            "33/33 [==============================] - 0s 13ms/step - loss: 0.3880 - accuracy: 0.8851 - val_loss: 0.4045 - val_accuracy: 0.8884\n",
            "Epoch 61/100\n",
            "33/33 [==============================] - 0s 13ms/step - loss: 0.4044 - accuracy: 0.9013 - val_loss: 0.4031 - val_accuracy: 0.8884\n",
            "Epoch 62/100\n",
            "33/33 [==============================] - 0s 13ms/step - loss: 0.4109 - accuracy: 0.8831 - val_loss: 0.4020 - val_accuracy: 0.8862\n",
            "Epoch 63/100\n",
            "33/33 [==============================] - 0s 13ms/step - loss: 0.4083 - accuracy: 0.8889 - val_loss: 0.4055 - val_accuracy: 0.8839\n",
            "Epoch 64/100\n",
            "33/33 [==============================] - 0s 15ms/step - loss: 0.4189 - accuracy: 0.8851 - val_loss: 0.4045 - val_accuracy: 0.8795\n",
            "Epoch 65/100\n",
            "33/33 [==============================] - 0s 14ms/step - loss: 0.4338 - accuracy: 0.8736 - val_loss: 0.4032 - val_accuracy: 0.8750\n",
            "Epoch 66/100\n",
            "33/33 [==============================] - 1s 16ms/step - loss: 0.3963 - accuracy: 0.8956 - val_loss: 0.3916 - val_accuracy: 0.8839\n",
            "Epoch 67/100\n",
            "33/33 [==============================] - 0s 14ms/step - loss: 0.4185 - accuracy: 0.8870 - val_loss: 0.4005 - val_accuracy: 0.8906\n",
            "Epoch 68/100\n",
            "33/33 [==============================] - 0s 14ms/step - loss: 0.3765 - accuracy: 0.8946 - val_loss: 0.3909 - val_accuracy: 0.9018\n",
            "Epoch 69/100\n",
            "33/33 [==============================] - 0s 12ms/step - loss: 0.3855 - accuracy: 0.9023 - val_loss: 0.3919 - val_accuracy: 0.8996\n",
            "Epoch 70/100\n",
            "33/33 [==============================] - 0s 13ms/step - loss: 0.3657 - accuracy: 0.9090 - val_loss: 0.3875 - val_accuracy: 0.8996\n",
            "Epoch 71/100\n",
            "33/33 [==============================] - 0s 12ms/step - loss: 0.3727 - accuracy: 0.9004 - val_loss: 0.3894 - val_accuracy: 0.8929\n",
            "Epoch 72/100\n",
            "33/33 [==============================] - 0s 14ms/step - loss: 0.3931 - accuracy: 0.8908 - val_loss: 0.3882 - val_accuracy: 0.8973\n",
            "Epoch 73/100\n",
            "33/33 [==============================] - 1s 15ms/step - loss: 0.3999 - accuracy: 0.8927 - val_loss: 0.3934 - val_accuracy: 0.8973\n",
            "Epoch 74/100\n",
            "33/33 [==============================] - 0s 14ms/step - loss: 0.3864 - accuracy: 0.8927 - val_loss: 0.3939 - val_accuracy: 0.8862\n",
            "Epoch 75/100\n",
            "33/33 [==============================] - 0s 15ms/step - loss: 0.4042 - accuracy: 0.8927 - val_loss: 0.3971 - val_accuracy: 0.8839\n",
            "Epoch 76/100\n",
            "33/33 [==============================] - 1s 16ms/step - loss: 0.3661 - accuracy: 0.8946 - val_loss: 0.3872 - val_accuracy: 0.8929\n",
            "Epoch 77/100\n",
            "33/33 [==============================] - 1s 16ms/step - loss: 0.3728 - accuracy: 0.8898 - val_loss: 0.3956 - val_accuracy: 0.8951\n",
            "Epoch 78/100\n",
            "33/33 [==============================] - 1s 17ms/step - loss: 0.3776 - accuracy: 0.9023 - val_loss: 0.3916 - val_accuracy: 0.8951\n",
            "Epoch 79/100\n",
            "33/33 [==============================] - 1s 17ms/step - loss: 0.3877 - accuracy: 0.8918 - val_loss: 0.3899 - val_accuracy: 0.8929\n",
            "Epoch 80/100\n",
            "33/33 [==============================] - 0s 15ms/step - loss: 0.3829 - accuracy: 0.8918 - val_loss: 0.3897 - val_accuracy: 0.8973\n",
            "Epoch 81/100\n",
            "33/33 [==============================] - 1s 16ms/step - loss: 0.4036 - accuracy: 0.8851 - val_loss: 0.3967 - val_accuracy: 0.8839\n",
            "Epoch 82/100\n",
            "33/33 [==============================] - 1s 19ms/step - loss: 0.3859 - accuracy: 0.9004 - val_loss: 0.3868 - val_accuracy: 0.8906\n",
            "Epoch 83/100\n",
            "33/33 [==============================] - 1s 15ms/step - loss: 0.3844 - accuracy: 0.8927 - val_loss: 0.3869 - val_accuracy: 0.8973\n",
            "Epoch 84/100\n",
            "33/33 [==============================] - 0s 14ms/step - loss: 0.3807 - accuracy: 0.8946 - val_loss: 0.3950 - val_accuracy: 0.8906\n",
            "Epoch 85/100\n",
            "33/33 [==============================] - 1s 16ms/step - loss: 0.3834 - accuracy: 0.8879 - val_loss: 0.3849 - val_accuracy: 0.8996\n",
            "Epoch 86/100\n",
            "33/33 [==============================] - 0s 15ms/step - loss: 0.3596 - accuracy: 0.9090 - val_loss: 0.3851 - val_accuracy: 0.8906\n",
            "Epoch 87/100\n",
            "33/33 [==============================] - 0s 15ms/step - loss: 0.4018 - accuracy: 0.8851 - val_loss: 0.3866 - val_accuracy: 0.8862\n",
            "Epoch 88/100\n",
            "33/33 [==============================] - 0s 14ms/step - loss: 0.3750 - accuracy: 0.9013 - val_loss: 0.3847 - val_accuracy: 0.8996\n",
            "Epoch 89/100\n",
            "33/33 [==============================] - 0s 14ms/step - loss: 0.3582 - accuracy: 0.9023 - val_loss: 0.3868 - val_accuracy: 0.8951\n",
            "Epoch 90/100\n",
            "33/33 [==============================] - 0s 14ms/step - loss: 0.3742 - accuracy: 0.8918 - val_loss: 0.3879 - val_accuracy: 0.8929\n",
            "Epoch 91/100\n",
            "33/33 [==============================] - 0s 14ms/step - loss: 0.3891 - accuracy: 0.8946 - val_loss: 0.3798 - val_accuracy: 0.8951\n",
            "Epoch 92/100\n",
            "33/33 [==============================] - 0s 13ms/step - loss: 0.3654 - accuracy: 0.8956 - val_loss: 0.3862 - val_accuracy: 0.8951\n",
            "Epoch 93/100\n",
            "33/33 [==============================] - 0s 13ms/step - loss: 0.3866 - accuracy: 0.8898 - val_loss: 0.3880 - val_accuracy: 0.8951\n",
            "Epoch 94/100\n",
            "33/33 [==============================] - 0s 12ms/step - loss: 0.3779 - accuracy: 0.8860 - val_loss: 0.3815 - val_accuracy: 0.8996\n",
            "Epoch 95/100\n",
            "33/33 [==============================] - 0s 14ms/step - loss: 0.3669 - accuracy: 0.8956 - val_loss: 0.3783 - val_accuracy: 0.8996\n",
            "Epoch 96/100\n",
            "33/33 [==============================] - 1s 16ms/step - loss: 0.3931 - accuracy: 0.8889 - val_loss: 0.3723 - val_accuracy: 0.8973\n",
            "Epoch 97/100\n",
            "33/33 [==============================] - 0s 15ms/step - loss: 0.3785 - accuracy: 0.8918 - val_loss: 0.3766 - val_accuracy: 0.8996\n",
            "Epoch 98/100\n",
            "33/33 [==============================] - 0s 13ms/step - loss: 0.3863 - accuracy: 0.8985 - val_loss: 0.3912 - val_accuracy: 0.8929\n",
            "Epoch 99/100\n",
            "33/33 [==============================] - 0s 13ms/step - loss: 0.3769 - accuracy: 0.8889 - val_loss: 0.3916 - val_accuracy: 0.8951\n",
            "Epoch 100/100\n",
            "33/33 [==============================] - 0s 13ms/step - loss: 0.3771 - accuracy: 0.8956 - val_loss: 0.3812 - val_accuracy: 0.8973\n"
          ]
        }
      ]
    },
    {
      "cell_type": "code",
      "source": [
        "# Mengevaluasi model\n",
        "loss, accuracy = model.evaluate(X_test_padded, y_test)\n",
        "print(f\"Loss: {loss}, Accuracy: {accuracy}\")\n",
        "\n",
        "# Membuat prediksi menggunakan data testing\n",
        "y_pred = model.predict(X_test_padded)\n",
        "predicted_classes = np.argmax(y_pred, axis=1)\n",
        "\n",
        "# Menampilkan hasil prediksi\n",
        "print(f\"Prediksi: {predicted_classes}\")\n",
        "\n",
        "# Evaluasi hasil prediksi dengan laporan klasifikasi dan matriks kebingungan\n",
        "from sklearn.metrics import classification_report, confusion_matrix\n",
        "import pandas as pd\n",
        "import matplotlib.pyplot as plt\n",
        "import seaborn as sns\n",
        "\n",
        "# Membuat laporan klasifikasi dalam bentuk tabel\n",
        "classification_rep = classification_report(y_test, predicted_classes, output_dict=True)\n",
        "classification_df = pd.DataFrame(classification_rep).transpose()\n",
        "\n",
        "# Membuat matriks kebingungan dalam bentuk tabel\n",
        "confusion_mat = confusion_matrix(y_test, predicted_classes)\n",
        "confusion_df = pd.DataFrame(confusion_mat, index=[f\"True_{i}\" for i in range(confusion_mat.shape[0])],\n",
        "                            columns=[f\"Pred_{i}\" for i in range(confusion_mat.shape[1])])\n",
        "\n",
        "# Menampilkan laporan klasifikasi sebagai gambar\n",
        "plt.figure(figsize=(10, 6))\n",
        "sns.heatmap(classification_df.iloc[:-1, :].T, annot=True, cmap='Blues', cbar=False)\n",
        "plt.title(\"Classification Report\")\n",
        "plt.yticks(rotation=0)\n",
        "plt.xticks(rotation=90)\n",
        "plt.show()\n",
        "\n",
        "# Menampilkan matriks kebingungan sebagai gambar\n",
        "plt.figure(figsize=(8, 6))\n",
        "sns.heatmap(confusion_df, annot=True, fmt='d', cmap='Blues', cbar=False)\n",
        "plt.title(\"Confusion Matrix\")\n",
        "plt.yticks(rotation=0)\n",
        "plt.show()\n",
        "\n",
        "\n",
        "\n",
        "# Menampilkan grafik akurasi dan loss\n",
        "import matplotlib.pyplot as plt\n",
        "\n",
        "plt.plot(history.history['accuracy'], label='accuracy')\n",
        "plt.plot(history.history['val_accuracy'], label='val_accuracy')\n",
        "plt.xlabel('Epoch')\n",
        "plt.ylabel('Accuracy')\n",
        "plt.ylim([0, 1])\n",
        "plt.legend(loc='lower right')\n",
        "plt.show()\n",
        "\n",
        "plt.plot(history.history['loss'], label='loss')\n",
        "plt.plot(history.history['val_loss'], label='val_loss')\n",
        "plt.xlabel('Epoch')\n",
        "plt.ylabel('Loss')\n",
        "plt.ylim([0, 2])\n",
        "plt.legend(loc='upper right')\n",
        "plt.show()\n"
      ],
      "metadata": {
        "colab": {
          "base_uri": "https://localhost:8080/",
          "height": 1000
        },
        "id": "D48Q8RNE8kS1",
        "outputId": "313a5624-95a1-49ea-9344-9743325f5e12"
      },
      "execution_count": null,
      "outputs": [
        {
          "output_type": "stream",
          "name": "stdout",
          "text": [
            "14/14 [==============================] - 0s 23ms/step - loss: 0.3812 - accuracy: 0.8973\n",
            "Loss: 0.3811834156513214, Accuracy: 0.8973214030265808\n",
            "14/14 [==============================] - 0s 19ms/step\n",
            "Prediksi: [0 0 0 0 0 0 0 0 0 0 0 0 1 1 0 0 0 0 1 0 0 0 0 0 0 0 1 1 1 0 0 0 0 0 0 0 0\n",
            " 1 0 1 0 0 0 1 0 0 0 0 0 1 0 1 0 0 1 0 0 1 0 0 0 1 1 0 1 1 1 0 0 0 0 1 0 1\n",
            " 1 0 0 0 0 0 1 0 0 1 0 0 0 1 0 1 1 1 0 0 0 1 0 0 0 0 0 0 0 0 1 0 0 0 0 0 0\n",
            " 0 0 0 0 1 0 0 0 0 1 0 1 1 0 0 1 0 0 0 0 0 1 0 0 0 0 0 1 0 1 0 1 0 0 0 0 0\n",
            " 0 1 0 0 1 1 1 1 1 0 1 0 0 0 0 0 0 0 1 0 0 0 1 0 1 0 0 0 0 0 0 0 1 0 0 0 1\n",
            " 0 0 1 0 0 1 0 1 1 0 0 0 0 0 1 1 0 0 1 0 0 0 0 1 0 0 1 0 1 1 1 0 0 0 0 0 0\n",
            " 0 0 0 0 0 0 0 0 0 1 1 1 1 0 1 0 0 0 0 1 0 0 1 1 0 1 1 0 1 0 0 0 1 0 0 1 0\n",
            " 1 1 0 0 0 0 0 0 0 0 0 0 1 1 0 0 0 1 0 1 0 0 0 1 0 0 0 1 0 1 0 0 0 1 1 0 1\n",
            " 0 1 0 0 0 1 0 0 1 1 1 0 0 1 0 0 1 0 0 1 0 1 0 1 1 0 0 0 1 0 0 0 0 1 0 0 1\n",
            " 0 0 1 1 0 1 0 1 0 1 0 0 0 1 0 0 0 1 0 0 0 0 0 0 1 1 0 1 0 0 0 1 0 0 0 1 0\n",
            " 1 0 1 0 0 0 0 1 0 0 0 0 0 1 0 1 0 1 0 1 0 0 0 0 1 0 1 1 0 0 0 0 0 0 0 0 0\n",
            " 1 0 0 1 0 1 0 1 0 0 0 0 0 1 0 0 0 0 1 0 0 0 0 0 0 0 0 0 0 0 0 0 0 1 1 1 1\n",
            " 0 1 1 0]\n"
          ]
        },
        {
          "output_type": "display_data",
          "data": {
            "text/plain": [
              "<Figure size 1000x600 with 1 Axes>"
            ],
            "image/png": "[encoded data removed]"
          },
          "metadata": {}
        },
        {
          "output_type": "display_data",
          "data": {
            "text/plain": [
              "<Figure size 800x600 with 1 Axes>"
            ],
            "image/png": "[encoded data removed]"
          },
          "metadata": {}
        },
        {
          "output_type": "display_data",
          "data": {
            "text/plain": [
              "<Figure size 640x480 with 1 Axes>"
            ],
            "image/png": "[encoded data removed]"
          },
          "metadata": {}
        },
        {
          "output_type": "display_data",
          "data": {
            "text/plain": [
              "<Figure size 640x480 with 1 Axes>"
            ],
            "image/png": "[encoded data removed]"
          },
          "metadata": {}
        }
      ]
    },
    {
      "cell_type": "code",
      "source": [],
      "metadata": {
        "id": "jThmpRYs8g1a"
      },
      "execution_count": null,
      "outputs": []
    },
    {
      "cell_type": "code",
      "source": [],
      "metadata": {
        "id": "zck591Ln7aFS"
      },
      "execution_count": null,
      "outputs": []
    },
    {
      "cell_type": "code",
      "source": [],
      "metadata": {
        "id": "QUkmkoy-7aIC"
      },
      "execution_count": null,
      "outputs": []
    },
    {
      "cell_type": "code",
      "source": [],
      "metadata": {
        "id": "5jU6XJNR7aKj"
      },
      "execution_count": null,
      "outputs": []
    },
    {
      "cell_type": "code",
      "source": [],
      "metadata": {
        "id": "FvGb4PD168ZF"
      },
      "execution_count": null,
      "outputs": []
    }
  ]
}